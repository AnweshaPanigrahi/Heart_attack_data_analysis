{
 "cells": [
  {
   "cell_type": "code",
   "execution_count": 1,
   "id": "7de99db8",
   "metadata": {},
   "outputs": [],
   "source": [
    "import pandas as pd"
   ]
  },
  {
   "cell_type": "code",
   "execution_count": 2,
   "id": "ef7f746e",
   "metadata": {},
   "outputs": [],
   "source": [
    "heart_df=pd.read_csv(\"heart.csv\",skiprows =[0], names=[\"Age\",\"Sex\",\"Chest pain\",\"Blood pressure\",\"Cholestrol\",\"Diabetes\",\"ECG Result\",\"Max heart rate\",\"Angina\",\"ST Depression\",\"ST slope\",\"# Major Vessels Coloured\",\"Thal\",\"Diagnosis\"])"
   ]
  },
  {
   "cell_type": "code",
   "execution_count": 3,
   "id": "81ffd260",
   "metadata": {},
   "outputs": [
    {
     "data": {
      "text/html": [
       "<div>\n",
       "<style scoped>\n",
       "    .dataframe tbody tr th:only-of-type {\n",
       "        vertical-align: middle;\n",
       "    }\n",
       "\n",
       "    .dataframe tbody tr th {\n",
       "        vertical-align: top;\n",
       "    }\n",
       "\n",
       "    .dataframe thead th {\n",
       "        text-align: right;\n",
       "    }\n",
       "</style>\n",
       "<table border=\"1\" class=\"dataframe\">\n",
       "  <thead>\n",
       "    <tr style=\"text-align: right;\">\n",
       "      <th></th>\n",
       "      <th>Age</th>\n",
       "      <th>Sex</th>\n",
       "      <th>Chest pain</th>\n",
       "      <th>Blood pressure</th>\n",
       "      <th>Cholestrol</th>\n",
       "      <th>Diabetes</th>\n",
       "      <th>ECG Result</th>\n",
       "      <th>Max heart rate</th>\n",
       "      <th>Angina</th>\n",
       "      <th>ST Depression</th>\n",
       "      <th>ST slope</th>\n",
       "      <th># Major Vessels Coloured</th>\n",
       "      <th>Thal</th>\n",
       "      <th>Diagnosis</th>\n",
       "    </tr>\n",
       "  </thead>\n",
       "  <tbody>\n",
       "    <tr>\n",
       "      <th>0</th>\n",
       "      <td>63</td>\n",
       "      <td>1</td>\n",
       "      <td>3</td>\n",
       "      <td>145</td>\n",
       "      <td>233</td>\n",
       "      <td>1</td>\n",
       "      <td>0</td>\n",
       "      <td>150</td>\n",
       "      <td>0</td>\n",
       "      <td>2.3</td>\n",
       "      <td>0</td>\n",
       "      <td>0</td>\n",
       "      <td>1</td>\n",
       "      <td>1</td>\n",
       "    </tr>\n",
       "    <tr>\n",
       "      <th>1</th>\n",
       "      <td>37</td>\n",
       "      <td>1</td>\n",
       "      <td>2</td>\n",
       "      <td>130</td>\n",
       "      <td>250</td>\n",
       "      <td>0</td>\n",
       "      <td>1</td>\n",
       "      <td>187</td>\n",
       "      <td>0</td>\n",
       "      <td>3.5</td>\n",
       "      <td>0</td>\n",
       "      <td>0</td>\n",
       "      <td>2</td>\n",
       "      <td>1</td>\n",
       "    </tr>\n",
       "    <tr>\n",
       "      <th>2</th>\n",
       "      <td>41</td>\n",
       "      <td>0</td>\n",
       "      <td>1</td>\n",
       "      <td>130</td>\n",
       "      <td>204</td>\n",
       "      <td>0</td>\n",
       "      <td>0</td>\n",
       "      <td>172</td>\n",
       "      <td>0</td>\n",
       "      <td>1.4</td>\n",
       "      <td>2</td>\n",
       "      <td>0</td>\n",
       "      <td>2</td>\n",
       "      <td>1</td>\n",
       "    </tr>\n",
       "    <tr>\n",
       "      <th>3</th>\n",
       "      <td>56</td>\n",
       "      <td>1</td>\n",
       "      <td>1</td>\n",
       "      <td>120</td>\n",
       "      <td>236</td>\n",
       "      <td>0</td>\n",
       "      <td>1</td>\n",
       "      <td>178</td>\n",
       "      <td>0</td>\n",
       "      <td>0.8</td>\n",
       "      <td>2</td>\n",
       "      <td>0</td>\n",
       "      <td>2</td>\n",
       "      <td>1</td>\n",
       "    </tr>\n",
       "    <tr>\n",
       "      <th>4</th>\n",
       "      <td>57</td>\n",
       "      <td>0</td>\n",
       "      <td>0</td>\n",
       "      <td>120</td>\n",
       "      <td>354</td>\n",
       "      <td>0</td>\n",
       "      <td>1</td>\n",
       "      <td>163</td>\n",
       "      <td>1</td>\n",
       "      <td>0.6</td>\n",
       "      <td>2</td>\n",
       "      <td>0</td>\n",
       "      <td>2</td>\n",
       "      <td>1</td>\n",
       "    </tr>\n",
       "    <tr>\n",
       "      <th>...</th>\n",
       "      <td>...</td>\n",
       "      <td>...</td>\n",
       "      <td>...</td>\n",
       "      <td>...</td>\n",
       "      <td>...</td>\n",
       "      <td>...</td>\n",
       "      <td>...</td>\n",
       "      <td>...</td>\n",
       "      <td>...</td>\n",
       "      <td>...</td>\n",
       "      <td>...</td>\n",
       "      <td>...</td>\n",
       "      <td>...</td>\n",
       "      <td>...</td>\n",
       "    </tr>\n",
       "    <tr>\n",
       "      <th>298</th>\n",
       "      <td>57</td>\n",
       "      <td>0</td>\n",
       "      <td>0</td>\n",
       "      <td>140</td>\n",
       "      <td>241</td>\n",
       "      <td>0</td>\n",
       "      <td>1</td>\n",
       "      <td>123</td>\n",
       "      <td>1</td>\n",
       "      <td>0.2</td>\n",
       "      <td>1</td>\n",
       "      <td>0</td>\n",
       "      <td>3</td>\n",
       "      <td>0</td>\n",
       "    </tr>\n",
       "    <tr>\n",
       "      <th>299</th>\n",
       "      <td>45</td>\n",
       "      <td>1</td>\n",
       "      <td>3</td>\n",
       "      <td>110</td>\n",
       "      <td>264</td>\n",
       "      <td>0</td>\n",
       "      <td>1</td>\n",
       "      <td>132</td>\n",
       "      <td>0</td>\n",
       "      <td>1.2</td>\n",
       "      <td>1</td>\n",
       "      <td>0</td>\n",
       "      <td>3</td>\n",
       "      <td>0</td>\n",
       "    </tr>\n",
       "    <tr>\n",
       "      <th>300</th>\n",
       "      <td>68</td>\n",
       "      <td>1</td>\n",
       "      <td>0</td>\n",
       "      <td>144</td>\n",
       "      <td>193</td>\n",
       "      <td>1</td>\n",
       "      <td>1</td>\n",
       "      <td>141</td>\n",
       "      <td>0</td>\n",
       "      <td>3.4</td>\n",
       "      <td>1</td>\n",
       "      <td>2</td>\n",
       "      <td>3</td>\n",
       "      <td>0</td>\n",
       "    </tr>\n",
       "    <tr>\n",
       "      <th>301</th>\n",
       "      <td>57</td>\n",
       "      <td>1</td>\n",
       "      <td>0</td>\n",
       "      <td>130</td>\n",
       "      <td>131</td>\n",
       "      <td>0</td>\n",
       "      <td>1</td>\n",
       "      <td>115</td>\n",
       "      <td>1</td>\n",
       "      <td>1.2</td>\n",
       "      <td>1</td>\n",
       "      <td>1</td>\n",
       "      <td>3</td>\n",
       "      <td>0</td>\n",
       "    </tr>\n",
       "    <tr>\n",
       "      <th>302</th>\n",
       "      <td>57</td>\n",
       "      <td>0</td>\n",
       "      <td>1</td>\n",
       "      <td>130</td>\n",
       "      <td>236</td>\n",
       "      <td>0</td>\n",
       "      <td>0</td>\n",
       "      <td>174</td>\n",
       "      <td>0</td>\n",
       "      <td>0.0</td>\n",
       "      <td>1</td>\n",
       "      <td>1</td>\n",
       "      <td>2</td>\n",
       "      <td>0</td>\n",
       "    </tr>\n",
       "  </tbody>\n",
       "</table>\n",
       "<p>303 rows × 14 columns</p>\n",
       "</div>"
      ],
      "text/plain": [
       "     Age  Sex  Chest pain  Blood pressure  Cholestrol  Diabetes  ECG Result  \\\n",
       "0     63    1           3             145         233         1           0   \n",
       "1     37    1           2             130         250         0           1   \n",
       "2     41    0           1             130         204         0           0   \n",
       "3     56    1           1             120         236         0           1   \n",
       "4     57    0           0             120         354         0           1   \n",
       "..   ...  ...         ...             ...         ...       ...         ...   \n",
       "298   57    0           0             140         241         0           1   \n",
       "299   45    1           3             110         264         0           1   \n",
       "300   68    1           0             144         193         1           1   \n",
       "301   57    1           0             130         131         0           1   \n",
       "302   57    0           1             130         236         0           0   \n",
       "\n",
       "     Max heart rate  Angina  ST Depression  ST slope  \\\n",
       "0               150       0            2.3         0   \n",
       "1               187       0            3.5         0   \n",
       "2               172       0            1.4         2   \n",
       "3               178       0            0.8         2   \n",
       "4               163       1            0.6         2   \n",
       "..              ...     ...            ...       ...   \n",
       "298             123       1            0.2         1   \n",
       "299             132       0            1.2         1   \n",
       "300             141       0            3.4         1   \n",
       "301             115       1            1.2         1   \n",
       "302             174       0            0.0         1   \n",
       "\n",
       "     # Major Vessels Coloured  Thal  Diagnosis  \n",
       "0                           0     1          1  \n",
       "1                           0     2          1  \n",
       "2                           0     2          1  \n",
       "3                           0     2          1  \n",
       "4                           0     2          1  \n",
       "..                        ...   ...        ...  \n",
       "298                         0     3          0  \n",
       "299                         0     3          0  \n",
       "300                         2     3          0  \n",
       "301                         1     3          0  \n",
       "302                         1     2          0  \n",
       "\n",
       "[303 rows x 14 columns]"
      ]
     },
     "execution_count": 3,
     "metadata": {},
     "output_type": "execute_result"
    }
   ],
   "source": [
    "heart_df"
   ]
  },
  {
   "cell_type": "code",
   "execution_count": 4,
   "id": "e6607dc6",
   "metadata": {},
   "outputs": [
    {
     "data": {
      "text/plain": [
       "(303, 14)"
      ]
     },
     "execution_count": 4,
     "metadata": {},
     "output_type": "execute_result"
    }
   ],
   "source": [
    "heart_df.shape"
   ]
  },
  {
   "cell_type": "code",
   "execution_count": 5,
   "id": "9affa857",
   "metadata": {},
   "outputs": [
    {
     "data": {
      "text/plain": [
       "Index(['Age', 'Sex', 'Chest pain', 'Blood pressure', 'Cholestrol', 'Diabetes',\n",
       "       'ECG Result', 'Max heart rate', 'Angina', 'ST Depression', 'ST slope',\n",
       "       '# Major Vessels Coloured', 'Thal', 'Diagnosis'],\n",
       "      dtype='object')"
      ]
     },
     "execution_count": 5,
     "metadata": {},
     "output_type": "execute_result"
    }
   ],
   "source": [
    "heart_df.columns"
   ]
  },
  {
   "cell_type": "code",
   "execution_count": 6,
   "id": "a4876679",
   "metadata": {},
   "outputs": [
    {
     "name": "stdout",
     "output_type": "stream",
     "text": [
      "<class 'pandas.core.frame.DataFrame'>\n",
      "RangeIndex: 303 entries, 0 to 302\n",
      "Data columns (total 14 columns):\n",
      " #   Column                    Non-Null Count  Dtype  \n",
      "---  ------                    --------------  -----  \n",
      " 0   Age                       303 non-null    int64  \n",
      " 1   Sex                       303 non-null    int64  \n",
      " 2   Chest pain                303 non-null    int64  \n",
      " 3   Blood pressure            303 non-null    int64  \n",
      " 4   Cholestrol                303 non-null    int64  \n",
      " 5   Diabetes                  303 non-null    int64  \n",
      " 6   ECG Result                303 non-null    int64  \n",
      " 7   Max heart rate            303 non-null    int64  \n",
      " 8   Angina                    303 non-null    int64  \n",
      " 9   ST Depression             303 non-null    float64\n",
      " 10  ST slope                  303 non-null    int64  \n",
      " 11  # Major Vessels Coloured  303 non-null    int64  \n",
      " 12  Thal                      303 non-null    int64  \n",
      " 13  Diagnosis                 303 non-null    int64  \n",
      "dtypes: float64(1), int64(13)\n",
      "memory usage: 33.3 KB\n"
     ]
    }
   ],
   "source": [
    "heart_df.info()"
   ]
  },
  {
   "cell_type": "code",
   "execution_count": 8,
   "id": "0f8ba63d",
   "metadata": {},
   "outputs": [],
   "source": [
    "heart_df[['Age','Cholestrol','Blood pressure']] = heart_df[['Age','Cholestrol','Blood pressure']].astype('double')"
   ]
  },
  {
   "cell_type": "code",
   "execution_count": 9,
   "id": "c0e644f9",
   "metadata": {},
   "outputs": [
    {
     "data": {
      "text/plain": [
       "54.366336633663366"
      ]
     },
     "execution_count": 9,
     "metadata": {},
     "output_type": "execute_result"
    }
   ],
   "source": [
    "#Working with single variable\n",
    "heart_df['Age'].mean(axis=0)"
   ]
  },
  {
   "cell_type": "code",
   "execution_count": 10,
   "id": "19646849",
   "metadata": {},
   "outputs": [
    {
     "name": "stdout",
     "output_type": "stream",
     "text": [
      "variance is: 82.48455838961381\n",
      "Standard deviaton is 9.082100989837858\n"
     ]
    }
   ],
   "source": [
    "var_age = heart_df['Age'].var(axis = 0)\n",
    "sd_age = heart_df['Age'].std(axis = 0)\n",
    "print(\"variance is:\",var_age)\n",
    "print(\"Standard deviaton is\",sd_age)"
   ]
  },
  {
   "cell_type": "code",
   "execution_count": 11,
   "id": "f5592b46",
   "metadata": {},
   "outputs": [
    {
     "data": {
      "text/plain": [
       "count    303.000000\n",
       "mean      54.366337\n",
       "std        9.082101\n",
       "min       29.000000\n",
       "25%       47.500000\n",
       "50%       55.000000\n",
       "75%       61.000000\n",
       "max       77.000000\n",
       "Name: Age, dtype: float64"
      ]
     },
     "execution_count": 11,
     "metadata": {},
     "output_type": "execute_result"
    }
   ],
   "source": [
    "heart_df['Age'].describe()"
   ]
  },
  {
   "cell_type": "code",
   "execution_count": 12,
   "id": "c63c2203",
   "metadata": {},
   "outputs": [
    {
     "name": "stdout",
     "output_type": "stream",
     "text": [
      "Interquartile range is: 30\n"
     ]
    }
   ],
   "source": [
    "age_itr = (77-47)\n",
    "print('Interquartile range is:',age_itr)"
   ]
  },
  {
   "cell_type": "code",
   "execution_count": 13,
   "id": "526ca1b5",
   "metadata": {},
   "outputs": [],
   "source": [
    "#To visualise the single variable\n",
    "import matplotlib.pyplot as plt"
   ]
  },
  {
   "cell_type": "code",
   "execution_count": 16,
   "id": "4cee5251",
   "metadata": {},
   "outputs": [
    {
     "data": {
      "image/png": "[encoded data removed]",
      "text/plain": [
       "<Figure size 720x504 with 1 Axes>"
      ]
     },
     "metadata": {
      "needs_background": "light"
     },
     "output_type": "display_data"
    }
   ],
   "source": [
    "from pylab import hist,show,xticks,yticks\n",
    "fig,ax = plt.subplots(figsize = (10,7))\n",
    "ax.hist(heart_df['Age'],bins =[20,30,40,50,60,70,80],color = 'plum',edgecolor = 'black')\n",
    "xticks(range(20,90,10))\n",
    "yticks(range(0,150,25))\n",
    "plt.xlabel(\"Age\",fontsize = 20)\n",
    "plt.ylabel(\"occurrences\",fontsize = 20)\n",
    "plt.tick_params(axis='both',which='major',labelsize=18)\n",
    "plt.show()"
   ]
  },
  {
   "cell_type": "code",
   "execution_count": 18,
   "id": "826a8e63",
   "metadata": {},
   "outputs": [
    {
     "data": {
      "image/png": "[encoded data removed]",
      "text/plain": [
       "<Figure size 720x720 with 1 Axes>"
      ]
     },
     "metadata": {
      "needs_background": "light"
     },
     "output_type": "display_data"
    }
   ],
   "source": [
    "from pylab import *\n",
    "fig=figure(figsize=(10,10))\n",
    "ax=fig.add_subplot(111)\n",
    "ax.boxplot(heart_df['Age'])\n",
    "ax.set_ylabel('Age',fontsize = 20)\n",
    "ax.axes.xaxis.set_visible(False)\n",
    "ax.tick_params(axis='both',which='major',labelsize=18)\n",
    "plt.show()"
   ]
  },
  {
   "cell_type": "code",
   "execution_count": null,
   "id": "9561923a",
   "metadata": {},
   "outputs": [],
   "source": []
  }
 ],
 "metadata": {
  "kernelspec": {
   "display_name": "Python 3 (ipykernel)",
   "language": "python",
   "name": "python3"
  },
  "language_info": {
   "codemirror_mode": {
    "name": "ipython",
    "version": 3
   },
   "file_extension": ".py",
   "mimetype": "text/x-python",
   "name": "python",
   "nbconvert_exporter": "python",
   "pygments_lexer": "ipython3",
   "version": "3.9.7"
  }
 },
 "nbformat": 4,
 "nbformat_minor": 5
}
